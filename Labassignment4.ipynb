{
  "nbformat": 4,
  "nbformat_minor": 0,
  "metadata": {
    "colab": {
      "name": "Labassignment4.ipynb",
      "provenance": [],
      "authorship_tag": "ABX9TyNsCSJTPFh25Mcuu4x5+nYt",
      "include_colab_link": true
    },
    "kernelspec": {
      "name": "python3",
      "display_name": "Python 3"
    },
    "language_info": {
      "name": "python"
    }
  },
  "cells": [
    {
      "cell_type": "markdown",
      "metadata": {
        "id": "view-in-github",
        "colab_type": "text"
      },
      "source": [
        "<a href=\"https://colab.research.google.com/github/Himanshu30122002/ooplabassignment-4/blob/main/Labassignment4.ipynb\" target=\"_parent\"><img src=\"https://colab.research.google.com/assets/colab-badge.svg\" alt=\"Open In Colab\"/></a>"
      ]
    },
    {
      "cell_type": "code",
      "metadata": {
        "colab": {
          "base_uri": "https://localhost:8080/"
        },
        "id": "GB9UevupycAJ",
        "outputId": "29806667-23d2-4128-aec4-40b5e4d23616"
      },
      "source": [
        "# ques - 2:\n",
        "class rectangle:\n",
        "  def __init__(self,length,width):\n",
        "    self.length = length\n",
        "    self.width = width\n",
        "\n",
        "  def rectangle_area(self):\n",
        "    return self.length*self.width\n",
        "\n",
        "r = rectangle(12,20)\n",
        "print(r.rectangle_area())      "
      ],
      "execution_count": 6,
      "outputs": [
        {
          "output_type": "stream",
          "name": "stdout",
          "text": [
            "240\n"
          ]
        }
      ]
    },
    {
      "cell_type": "code",
      "metadata": {
        "colab": {
          "base_uri": "https://localhost:8080/"
        },
        "id": "_knCxnQi0FIL",
        "outputId": "28c5f969-18dd-45c4-bfec-c1a69b6a0190"
      },
      "source": [
        "# ques -3\n",
        "class Queue:\n",
        "  def __init__(self):\n",
        "    self.queue = []\n",
        "  def enqueue(self,item):\n",
        "    self.queue.append(item)\n",
        "      \n",
        "  def dequeue(self):\n",
        "    if len(self.queue) <1:\n",
        "      return None\n",
        "    return self.queue.pop(0)  \n",
        "      \n",
        "  def display(self):\n",
        "    print(self.queue)\n",
        "  \n",
        "  def size(self):\n",
        "    return len(self.queue)      \n",
        "\n",
        "   def __del__ \n",
        "\n",
        "q = Queue()\n",
        "q.enqueue(10)\n",
        "q.enqueue(21)\n",
        "q.enqueue(32)\n",
        "q.enqueue(45)\n",
        "q.enqueue(51)\n",
        "\n",
        "q.display()\n",
        "\n",
        "q.dequeue()\n",
        "\n",
        "print(\"After removing an element\")\n",
        "q.display()\n"
      ],
      "execution_count": 4,
      "outputs": [
        {
          "output_type": "stream",
          "name": "stdout",
          "text": [
            "[10, 21, 32, 45, 51]\n",
            "After removing an element\n",
            "[21, 32, 45, 51]\n"
          ]
        }
      ]
    },
    {
      "cell_type": "code",
      "metadata": {
        "colab": {
          "base_uri": "https://localhost:8080/"
        },
        "id": "cwWDvmEPTUrD",
        "outputId": "9ebb69cb-55ae-491c-a615-be6b394e5a91"
      },
      "source": [
        "# QUES -1 \n",
        "class Node:\n",
        "    def __init__(self, value):\n",
        "\t    self.value = value\n",
        "\t    self.next = None\n",
        "\n",
        "class Stack:\n",
        "\t\n",
        "    def __init__(self):\n",
        "\t    self.head = Node(\"head\")\n",
        "\t    self.size = 0\n",
        "\n",
        "    def __str__(self):\n",
        "\t    cur = self.head.next\n",
        "\t    out = \"\"\n",
        "\t    while cur:\n",
        "\t\t    out += str(cur.value) + \"->\"\n",
        "\t\t    cur = cur.next\n",
        "\t    return out[:-3]\n",
        "\n",
        "    def getSize(self):\n",
        "\t    return self.size\n",
        "\t\n",
        "    def isEmpty(self):\n",
        "\t    return self.size == 0\n",
        "\t\n",
        "    def peek(self):\n",
        "\t\n",
        "\t    if self.isEmpty():\n",
        "\t\t    raise Exception(\"Peeking from an empty stack\")\n",
        "\t    return self.head.next.value\n",
        "\n",
        "    def push(self, value):\n",
        "\t    node = Node(value)\n",
        "\t    node.next = self.head.next\n",
        "\t    self.head.next = node\n",
        "\t    self.size += 1\n",
        "\t\n",
        "    def pop(self):\n",
        "\t    if self.isEmpty():\n",
        "\t\t    raise Exception(\"Popping from an empty stack\")\n",
        "\t    remove = self.head.next\n",
        "\t    self.head.next = self.head.next.next\n",
        "\t    self.size -= 1\n",
        "\t    return remove.value\n",
        "\n",
        "\n",
        "if __name__ == \"__main__\":\n",
        "    stack = Stack()\n",
        "for i in range(1, 20):\n",
        "\tstack.push(i)\n",
        "print(f\"Stack: {stack}\")\n",
        "\n",
        "for _ in range(1, 4):\n",
        "\tremove = stack.pop()\n",
        "\tprint(f\"Pop: {remove}\")\n",
        "print(f\"Stack: {stack}\")"
      ],
      "execution_count": 11,
      "outputs": [
        {
          "output_type": "stream",
          "name": "stdout",
          "text": [
            "Stack: 19->18->17->16->15->14->13->12->11->10->9->8->7->6->5->4->3->2->\n",
            "Pop: 19\n",
            "Pop: 18\n",
            "Pop: 17\n",
            "Stack: 16->15->14->13->12->11->10->9->8->7->6->5->4->3->2->\n"
          ]
        }
      ]
    }
  ]
}